{
  "nbformat": 4,
  "nbformat_minor": 0,
  "metadata": {
    "colab": {
      "provenance": [],
      "gpuType": "T4",
      "authorship_tag": "ABX9TyM7TsewFuGUNMqEIWzldwQU",
      "include_colab_link": true
    },
    "kernelspec": {
      "name": "python3",
      "display_name": "Python 3"
    },
    "language_info": {
      "name": "python"
    },
    "accelerator": "GPU"
  },
  "cells": [
    {
      "cell_type": "markdown",
      "metadata": {
        "id": "view-in-github",
        "colab_type": "text"
      },
      "source": [
        "<a href=\"https://colab.research.google.com/github/mohamedashraf111999/ML/blob/master/Linear_Regression_Model_with_Pyhtorch.ipynb\" target=\"_parent\"><img src=\"https://colab.research.google.com/assets/colab-badge.svg\" alt=\"Open In Colab\"/></a>"
      ]
    },
    {
      "cell_type": "code",
      "source": [
        "import torch\n",
        "from torch import nn"
      ],
      "metadata": {
        "id": "oJd-otYABuFk"
      },
      "execution_count": 63,
      "outputs": []
    },
    {
      "cell_type": "code",
      "execution_count": 64,
      "metadata": {
        "colab": {
          "base_uri": "https://localhost:8080/"
        },
        "id": "Ir3NWcALBk0G",
        "outputId": "c6756063-a369-46be-fb01-fcb81acdc855"
      },
      "outputs": [
        {
          "output_type": "stream",
          "name": "stdout",
          "text": [
            "200\n"
          ]
        },
        {
          "output_type": "execute_result",
          "data": {
            "text/plain": [
              "(tensor([[0.0000],\n",
              "         [0.0100],\n",
              "         [0.0200],\n",
              "         [0.0300],\n",
              "         [0.0400]]),\n",
              " tensor([[0.3000],\n",
              "         [0.3070],\n",
              "         [0.3140],\n",
              "         [0.3210],\n",
              "         [0.3280]]))"
            ]
          },
          "metadata": {},
          "execution_count": 64
        }
      ],
      "source": [
        "# create some data\n",
        "weights = 0.7\n",
        "bais = 0.3\n",
        "start  = 0\n",
        "end = 2\n",
        "step = 0.01\n",
        "#create data\n",
        "X_regression = torch.arange(start , end, step).unsqueeze(dim = 1)\n",
        "y_regression = weights * X_regression + bais\n",
        "\n",
        "\n",
        "#cheching the data\n",
        "print(len(X_regression))\n",
        "X_regression[:5], y_regression[:5]"
      ]
    },
    {
      "cell_type": "code",
      "source": [
        "#creating train, test data split\n",
        "\n",
        "train_split = int(0.8 * len(X_regression))\n",
        "X_train_regression, y_train_regression = X_regression[:train_split], X_regression[:train_split]\n",
        "X_test_regression, y_test_regression = X_regression[train_split:], X_regression[train_split:]\n",
        "\n",
        "#checking the len of the data\n",
        "len(X_train_regression), len(y_train_regression), len(X_test_regression), len(y_test_regression)"
      ],
      "metadata": {
        "colab": {
          "base_uri": "https://localhost:8080/"
        },
        "id": "5NTzaXlCB8dy",
        "outputId": "33101eb6-0c4c-4508-e043-abcb40dbfeab"
      },
      "execution_count": 65,
      "outputs": [
        {
          "output_type": "execute_result",
          "data": {
            "text/plain": [
              "(160, 160, 40, 40)"
            ]
          },
          "metadata": {},
          "execution_count": 65
        }
      ]
    },
    {
      "cell_type": "code",
      "source": [
        "### Download helper_functions if it is not dowloaded\n",
        "import requests\n",
        "from pathlib import Path\n",
        "\n",
        "if Path(\"helper_functions.py\").is_file():\n",
        "  print(\"Helper_funcation is exist\")\n",
        "else:\n",
        "  print(\"Downloading Helper Functions\")\n",
        "  request = requests.get(\"https://raw.githubusercontent.com/mrdbourke/pytorch-deep-learning/main/helper_functions.py\")\n",
        "  with open(\"helper_functions.py\", \"wb\") as f:\n",
        "    f.write(request.content)"
      ],
      "metadata": {
        "colab": {
          "base_uri": "https://localhost:8080/"
        },
        "id": "2mlWNJpWCGHy",
        "outputId": "62c9a633-96c5-4c96-d0e5-4d31cbf2f66a"
      },
      "execution_count": 54,
      "outputs": [
        {
          "output_type": "stream",
          "name": "stdout",
          "text": [
            "Helper_funcation is exist\n"
          ]
        }
      ]
    },
    {
      "cell_type": "code",
      "source": [
        "from helper_functions import plot_predictions\n",
        "plot_predictions(train_data = X_train_regression,\n",
        "                 train_labels = y_train_regression,\n",
        "                 test_data = X_test_regression,\n",
        "                 test_labels = y_test_regression)"
      ],
      "metadata": {
        "colab": {
          "base_uri": "https://localhost:8080/",
          "height": 599
        },
        "id": "-vOVP8QnB8aa",
        "outputId": "67ae5c80-d7f7-4119-bc99-17b8d4592a25"
      },
      "execution_count": 66,
      "outputs": [
        {
          "output_type": "display_data",
          "data": {
            "text/plain": [
              "<Figure size 1000x700 with 1 Axes>"
            ],
            "image/png": "[encoded data removed]"
          },
          "metadata": {}
        }
      ]
    },
    {
      "cell_type": "code",
      "source": [
        "#Device Agnostic\n",
        "device = \"cuda\" if torch.cuda.is_available() else \"cpu\"\n",
        "device"
      ],
      "metadata": {
        "colab": {
          "base_uri": "https://localhost:8080/",
          "height": 36
        },
        "id": "TYdYGyxeB8E8",
        "outputId": "b90d040f-1a64-4d73-941e-caa00dfaff4c"
      },
      "execution_count": 67,
      "outputs": [
        {
          "output_type": "execute_result",
          "data": {
            "text/plain": [
              "'cuda'"
            ],
            "application/vnd.google.colaboratory.intrinsic+json": {
              "type": "string"
            }
          },
          "metadata": {},
          "execution_count": 67
        }
      ]
    },
    {
      "cell_type": "code",
      "source": [
        "#Intializing the model and its layers + Adding it to same device\n",
        "\n",
        "model_v2 = nn.Sequential(\n",
        "    nn.Linear(in_features = 1, out_features =10),\n",
        "    nn.Linear(in_features = 10, out_features = 10),\n",
        "\n",
        "    nn.Linear(in_features = 10, out_features = 1),\n",
        ").to(device)"
      ],
      "metadata": {
        "id": "60V3oISgB8AK"
      },
      "execution_count": 76,
      "outputs": []
    },
    {
      "cell_type": "code",
      "source": [
        "#Intialize the model with class\n",
        "\"\"\"\n",
        "class CircleModelV2(nn.Module):\n",
        "  def __init__(self, *args, **kwargs) -> None:\n",
        "    super().__init__(*args, **kwargs)\n",
        "\n",
        "    #Creating Linear layer that take 2 input feature and produce 1 output\n",
        "    self.linear_layer1 = nn.Linear(in_features=2, out_features=10)  #This layer takes 2 inputs and produce 5 outputs\n",
        "    self.linear_layer2 = nn.Linear(in_features=10, out_features=10)\n",
        "    self.linear_layer3 = nn.Linear(in_features=10, out_features=1)  #This layer takes 5 inputs (Same outputs of the previous Layer)\n",
        "\n",
        "  #defining forward() Method\n",
        "  def forward(self, x):\n",
        "    return self.linear_layer3(self.linear_layer2(self.linear_layer1(x)))\n",
        "\n",
        "\"\"\""
      ],
      "metadata": {
        "id": "lmvXbc4cElxC"
      },
      "execution_count": null,
      "outputs": []
    },
    {
      "cell_type": "code",
      "source": [
        "#Intializing Loss Funcation and Optimizer\n",
        "loss_fn = nn.L1Loss()\n",
        "optimizer = torch.optim.SGD(params = model_v2.parameters(), lr = 0.1)"
      ],
      "metadata": {
        "id": "k5CKqChfDHrr"
      },
      "execution_count": 77,
      "outputs": []
    },
    {
      "cell_type": "code",
      "source": [
        "#Creating accuracy function\n",
        "def accuracy_fn(y_true, y_pred):\n",
        "    correct = torch.eq(y_true, y_pred).sum().item() # torch.eq() calculates where two tensors are equal\n",
        "    acc = (correct / len(y_pred)) * 100\n",
        "    return acc"
      ],
      "metadata": {
        "id": "tPFnAaeLDXw7"
      },
      "execution_count": 78,
      "outputs": []
    },
    {
      "cell_type": "code",
      "source": [
        "#Model Training Loop\n",
        "\n",
        "Epochs = 5000\n",
        "\n",
        "X_train_regression, y_train_regression = X_train_regression.to(device), y_train_regression.to(device)\n",
        "X_test_regression, y_test_regression = X_test_regression.to(device), y_test_regression.to(device)\n",
        "\n",
        "for epoch in range(Epochs):\n",
        "\n",
        "  model_v2.train()\n",
        "  y_pred = model_v2(X_train_regression)\n",
        "  #calculating the loss\n",
        "  loss = loss_fn(y_pred, y_train_regression)\n",
        "  # Zero Grad\n",
        "  optimizer.zero_grad()\n",
        "\n",
        "  #Loss backward\n",
        "  loss.backward()\n",
        "\n",
        "  #Optimizer step\n",
        "\n",
        "  optimizer.step()\n",
        "\n",
        "  ### Testing\n",
        "\n",
        "  model_v2.eval()\n",
        "\n",
        "  with torch.inference_mode():\n",
        "    test_logits = model_v2(X_test_regression).squeeze()\n",
        "    test_preds = torch.round(torch.sigmoid(test_logits))\n",
        "\n",
        "    test_loss  = loss_fn(test_logits, y_test_regression)\n",
        "    test_acc = accuracy_fn(y_true=y_test_regression, y_pred=test_preds)\n",
        "\n",
        "\n",
        "  if epoch % 100 == 0:\n",
        "        print(f\"Epoch: {epoch} | Loss: {loss:.5f}| Test loss: {test_loss:.5f}\")\n",
        ""
      ],
      "metadata": {
        "colab": {
          "base_uri": "https://localhost:8080/"
        },
        "id": "Mg8kpCbFC0OD",
        "outputId": "5a5579c9-b294-4784-9528-acdece4c1b13"
      },
      "execution_count": 79,
      "outputs": [
        {
          "output_type": "stream",
          "name": "stdout",
          "text": [
            "Epoch: 0 | Loss: 0.35886| Test loss: 0.18646\n",
            "Epoch: 100 | Loss: 0.15897| Test loss: 0.64746\n",
            "Epoch: 200 | Loss: 0.05220| Test loss: 0.20560\n",
            "Epoch: 300 | Loss: 0.03770| Test loss: 0.24483\n",
            "Epoch: 400 | Loss: 0.13755| Test loss: 0.19144\n",
            "Epoch: 500 | Loss: 0.05240| Test loss: 0.25469\n",
            "Epoch: 600 | Loss: 0.01085| Test loss: 0.31155\n",
            "Epoch: 700 | Loss: 0.09639| Test loss: 0.12884\n",
            "Epoch: 800 | Loss: 0.12465| Test loss: 0.18909\n",
            "Epoch: 900 | Loss: 0.06486| Test loss: 0.20542\n",
            "Epoch: 1000 | Loss: 0.06723| Test loss: 0.15797\n",
            "Epoch: 1100 | Loss: 0.06161| Test loss: 0.20047\n",
            "Epoch: 1200 | Loss: 0.05972| Test loss: 0.18217\n",
            "Epoch: 1300 | Loss: 0.03757| Test loss: 0.20035\n",
            "Epoch: 1400 | Loss: 0.08210| Test loss: 0.12802\n",
            "Epoch: 1500 | Loss: 0.03227| Test loss: 0.20744\n",
            "Epoch: 1600 | Loss: 0.06454| Test loss: 0.14584\n",
            "Epoch: 1700 | Loss: 0.05292| Test loss: 0.16466\n",
            "Epoch: 1800 | Loss: 0.06927| Test loss: 0.13080\n",
            "Epoch: 1900 | Loss: 0.07514| Test loss: 0.16027\n",
            "Epoch: 2000 | Loss: 0.10025| Test loss: 0.13137\n",
            "Epoch: 2100 | Loss: 0.07038| Test loss: 0.15425\n",
            "Epoch: 2200 | Loss: 0.05831| Test loss: 0.12955\n",
            "Epoch: 2300 | Loss: 0.08171| Test loss: 0.12956\n",
            "Epoch: 2400 | Loss: 0.06840| Test loss: 0.17842\n",
            "Epoch: 2500 | Loss: 0.09972| Test loss: 0.13162\n",
            "Epoch: 2600 | Loss: 0.09850| Test loss: 0.13156\n",
            "Epoch: 2700 | Loss: 0.00617| Test loss: 0.23969\n",
            "Epoch: 2800 | Loss: 0.07515| Test loss: 0.13046\n",
            "Epoch: 2900 | Loss: 0.08518| Test loss: 0.12927\n",
            "Epoch: 3000 | Loss: 0.08620| Test loss: 0.18236\n",
            "Epoch: 3100 | Loss: 0.11145| Test loss: 0.13769\n",
            "Epoch: 3200 | Loss: 0.04911| Test loss: 0.16831\n",
            "Epoch: 3300 | Loss: 0.05083| Test loss: 0.15955\n",
            "Epoch: 3400 | Loss: 0.08777| Test loss: 0.17825\n",
            "Epoch: 3500 | Loss: 0.05413| Test loss: 0.14988\n",
            "Epoch: 3600 | Loss: 0.07232| Test loss: 0.17355\n",
            "Epoch: 3700 | Loss: 0.07571| Test loss: 0.12927\n",
            "Epoch: 3800 | Loss: 0.07527| Test loss: 0.13373\n",
            "Epoch: 3900 | Loss: 0.01268| Test loss: 0.24279\n",
            "Epoch: 4000 | Loss: 0.07429| Test loss: 0.13494\n",
            "Epoch: 4100 | Loss: 0.06197| Test loss: 0.12895\n",
            "Epoch: 4200 | Loss: 0.08278| Test loss: 0.13951\n",
            "Epoch: 4300 | Loss: 0.09745| Test loss: 0.13896\n",
            "Epoch: 4400 | Loss: 0.04568| Test loss: 0.13705\n",
            "Epoch: 4500 | Loss: 0.05562| Test loss: 0.23170\n",
            "Epoch: 4600 | Loss: 0.04002| Test loss: 0.17268\n",
            "Epoch: 4700 | Loss: 0.04696| Test loss: 0.17164\n",
            "Epoch: 4800 | Loss: 0.05860| Test loss: 0.17310\n",
            "Epoch: 4900 | Loss: 0.05315| Test loss: 0.18600\n"
          ]
        }
      ]
    },
    {
      "cell_type": "code",
      "source": [
        "model_v2.eval()\n",
        "\n",
        "with torch.inference_mode():\n",
        "  y_preds = model_v2(X_test_regression)\n",
        "\n",
        "plot_predictions(train_data = X_train_regression.cpu(),\n",
        "                 train_labels = y_train_regression.cpu(),\n",
        "                 test_data = X_test_regression.cpu(),\n",
        "                 test_labels = y_test_regression.cpu(),\n",
        "                  predictions = y_preds.cpu())"
      ],
      "metadata": {
        "colab": {
          "base_uri": "https://localhost:8080/",
          "height": 599
        },
        "id": "1FofgWfoFKCT",
        "outputId": "74c83073-a620-47f2-ee62-3a7c76e2308c"
      },
      "execution_count": 80,
      "outputs": [
        {
          "output_type": "display_data",
          "data": {
            "text/plain": [
              "<Figure size 1000x700 with 1 Axes>"
            ],
            "image/png": "[encoded data removed]"
          },
          "metadata": {}
        }
      ]
    }
  ]
}